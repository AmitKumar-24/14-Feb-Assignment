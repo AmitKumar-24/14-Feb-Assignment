{
 "cells": [
  {
   "cell_type": "markdown",
   "id": "94ca44fc-55fe-486f-8f93-c9a5433e9863",
   "metadata": {},
   "source": [
    "Q1. what is multithreading in python? why is it used? Name the module used to handle threads in python"
   ]
  },
  {
   "cell_type": "markdown",
   "id": "edb52d5a-4be0-4d46-b668-6419d07b6455",
   "metadata": {},
   "source": [
    "Multithreading : is a threading technique in Python programming to run multiple threads concurrently by rapidly switching between threads with the help of CPU. Besides, it allows sharing of its data space with the main threads inside a process that share information and communication with other threads easier than individual processes. Multithreading aims to perform multiple tasks simultaneously, which increases performance, speed and improves the rendering of the application."
   ]
  },
  {
   "cell_type": "markdown",
   "id": "a5f0cb2d-b8ea-4a40-8621-c83872b92fc3",
   "metadata": {},
   "source": [
    "It is a very useful technique for time-saving and improving the performance of an application. Multithreading allows the programmer to divide application tasks into sub-tasks and simultaneously run them in a program. It allows threads to communicate and share resources such as files, data, and memory to the same processor."
   ]
  },
  {
   "cell_type": "markdown",
   "id": "5f155114-453e-4857-ba01-fea7a05c3e8a",
   "metadata": {},
   "source": [
    "Threading module is used to handle threads in python, multithreading is the ability of a processor to execute multiple threads concurrently."
   ]
  },
  {
   "cell_type": "code",
   "execution_count": 4,
   "id": "c1a138e4-45d2-4851-b94a-ee95515eaf09",
   "metadata": {},
   "outputs": [],
   "source": [
    "import threading\n",
    "thread = [threading.Thread(target = test, args = (i,)) for i in range(10)]\n",
    "\n",
    "for t in thread:\n",
    "    t.start()"
   ]
  },
  {
   "cell_type": "markdown",
   "id": "10eb427a-98c7-4c2a-a43a-2b499c46ad26",
   "metadata": {},
   "source": [
    "Q2. why threading module used? write the used of following functions:\n",
    "\n",
    "1.activeCount()\n",
    "\n",
    "2.currentThread()\n",
    "\n",
    "3.enumerate()"
   ]
  },
  {
   "cell_type": "markdown",
   "id": "a36c603a-36ba-4631-9d4e-724f15e03342",
   "metadata": {},
   "source": [
    "threading allows the programmer to divide application tasks into sub-tasks and simultaneously run them in a program.  It allows threads to communicate and share resources such as files, data, and memory to the same processor."
   ]
  },
  {
   "cell_type": "markdown",
   "id": "342800ab-122d-4730-885d-0cb7f3f5f2f3",
   "metadata": {},
   "source": [
    "threading.activeCount() − Returns the number of thread objects that are active.\n",
    "\n",
    "threading.currentThread() − Returns the number of thread objects in the caller's thread control.\n",
    "\n",
    "threading.enumerate() − Returns a list of all thread objects that are currently active.\n"
   ]
  },
  {
   "cell_type": "markdown",
   "id": "ddd51c13-531b-4952-81e0-f67a551cb51c",
   "metadata": {},
   "source": [
    "Q3. Explain the following functions:\n",
    "\n",
    "1.run()\n",
    "\n",
    "2.start()\n",
    "\n",
    "3.join()\n",
    "\n",
    "4.isAlive()\n"
   ]
  },
  {
   "cell_type": "markdown",
   "id": "e988dc69-c94e-4a97-8fb8-8b382bf1334e",
   "metadata": {},
   "source": [
    "run() method invokes the callable object passed to the object’s constructor as the target argument, if any, with positional and keyword arguments taken from the args and kwargs arguments, respectively."
   ]
  },
  {
   "cell_type": "code",
   "execution_count": 8,
   "id": "1fcdb9d1-dda5-4011-824d-8745c15ff3a7",
   "metadata": {},
   "outputs": [
    {
     "name": "stdout",
     "output_type": "stream",
     "text": [
      "1\n"
     ]
    }
   ],
   "source": [
    "from threading import Thread\n",
    "t = Thread(target=print, args=[1])\n",
    "t.run()"
   ]
  },
  {
   "cell_type": "markdown",
   "id": "1cbccae6-7e2a-4373-b3ed-f089fb3981ca",
   "metadata": {},
   "source": [
    "start() : Start the thread’s activity.\n",
    "It must be called at most once per thread object. It arranges for the object’s run() method to be invoked in a separate thread of control.\n",
    "This method will raise a RuntimeError if called more than once on the same thread object."
   ]
  },
  {
   "cell_type": "markdown",
   "id": "64761be9-d949-4208-9387-7c32fae70afc",
   "metadata": {},
   "source": [
    "join() : join() methods wait until the thread terminates. This blocks the calling thread until the thread whose join() method is called terminates – either normally or through an unhandled exception – or until the optional timeout occurs."
   ]
  },
  {
   "cell_type": "markdown",
   "id": "1ff4b45a-ba02-41a5-a8f0-faa4092b1448",
   "metadata": {},
   "source": [
    "isAlive() : Return whether the thread is alive.\n",
    "\n",
    "This method returns True just before the run() method starts until just after the run() method terminates. The module function enumerate() returns a list of all alive threads."
   ]
  },
  {
   "cell_type": "markdown",
   "id": "1b1669b8-a166-4918-bfc2-8df82c3035ed",
   "metadata": {},
   "source": [
    "Q4. Write a python program to create two threads. Thread one must print the list of squares and thread two must print the list of cubes."
   ]
  },
  {
   "cell_type": "code",
   "execution_count": 11,
   "id": "0fcd85d2-0e6f-4b11-8d0a-2c57f39b910b",
   "metadata": {},
   "outputs": [],
   "source": [
    "import threading"
   ]
  },
  {
   "cell_type": "code",
   "execution_count": 64,
   "id": "a5b3b185-cf0e-4266-a553-7bff848bb3dc",
   "metadata": {},
   "outputs": [],
   "source": [
    "def square(l):\n",
    "    for n in l:\n",
    "        print('list of square : ', n*n)\n",
    "\n",
    "def cube(l):\n",
    "    for n in l:\n",
    "        print('list of cube : ', n*n*n)"
   ]
  },
  {
   "cell_type": "code",
   "execution_count": 65,
   "id": "12e35a94-d5e8-44c9-bd62-2111d9812ded",
   "metadata": {},
   "outputs": [
    {
     "name": "stdout",
     "output_type": "stream",
     "text": [
      "list of square :  4\n",
      "list of square :  9\n",
      "list of square :  16\n",
      "list of square :  25\n",
      "list of cube :  8\n",
      "list of cube :  27\n",
      "list of cube :  64\n",
      "list of cube :  125\n"
     ]
    }
   ],
   "source": [
    "l = [2,3,4,5]\n",
    "thread1 = [threading.Thread(target = square, args = (l,))]\n",
    "thread2= [threading.Thread(target = cube, args = (l,))]\n",
    "\n",
    "for t in thread1:\n",
    "    t.start()\n",
    "for t in thread2:\n",
    "    t.start()"
   ]
  },
  {
   "cell_type": "markdown",
   "id": "c1c31060-69cd-43e3-adec-63e7d22f7ad0",
   "metadata": {},
   "source": [
    "Q5. state advantages and disadvantages of multithreading"
   ]
  },
  {
   "cell_type": "markdown",
   "id": "7ab12c96-97c5-4ad2-9c28-651c407d18cb",
   "metadata": {},
   "source": [
    "Advantages of multithreading : \n",
    "\n",
    "    Enhanced performance by decreased development time\n",
    "\n",
    "    Simplified and streamlined program coding\n",
    "\n",
    "    Improvised GUI responsiveness\n",
    "\n",
    "    Simultaneous and parallelized occurrence of tasks\n",
    "\n",
    "    Better use of cache storage by utilization of resources\n",
    "\n",
    "    Decreased cost of maintenance\n",
    "\n",
    "    Better use of CPU resource"
   ]
  },
  {
   "cell_type": "markdown",
   "id": "7150fa20-b657-44e2-b07f-d1eea4f44eb0",
   "metadata": {},
   "source": [
    "Disadvantages of multithreading : \n",
    "    \n",
    "    Complex debugging and testing processes\n",
    "\n",
    "    Overhead switching of context\n",
    "\n",
    "    Increased potential for deadlock occurrence\n",
    "\n",
    "    Increased difficulty level in writing a program\n",
    "\n",
    "    Unpredictable results"
   ]
  },
  {
   "cell_type": "markdown",
   "id": "6083fc4f-c646-4f50-8429-5877a0483ac5",
   "metadata": {},
   "source": [
    "Q6. Explain deadlocks and race conditions"
   ]
  },
  {
   "cell_type": "markdown",
   "id": "1c9ee985-522e-4e23-a84c-e6e35dfa5123",
   "metadata": {},
   "source": [
    "A deadlock occurs when two threads each lock a different variable at the same time and then try to lock the variable that the other thread already locked. As a result, each thread stops executing and waits for the other thread to release the variable. Because each thread is holding the variable that the other thread wants, nothing occurs, and the threads remain deadlocked\n",
    "\n",
    "A race condition is unpredictable values of variables that are shared between multiple threads. This results from the unpredictability of the order in which the threads execute. Sometime one thread wins, and sometime the other thread wins. At other times, execution works correctly. Also, if each thread is executed separately, the variable value behaves correctly."
   ]
  },
  {
   "cell_type": "code",
   "execution_count": null,
   "id": "49acf94e-85c3-43d8-a9ed-084505e8fa99",
   "metadata": {},
   "outputs": [],
   "source": []
  }
 ],
 "metadata": {
  "kernelspec": {
   "display_name": "Python 3 (ipykernel)",
   "language": "python",
   "name": "python3"
  },
  "language_info": {
   "codemirror_mode": {
    "name": "ipython",
    "version": 3
   },
   "file_extension": ".py",
   "mimetype": "text/x-python",
   "name": "python",
   "nbconvert_exporter": "python",
   "pygments_lexer": "ipython3",
   "version": "3.10.8"
  }
 },
 "nbformat": 4,
 "nbformat_minor": 5
}
